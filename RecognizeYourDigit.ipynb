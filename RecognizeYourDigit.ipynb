{
 "cells": [
  {
   "cell_type": "markdown",
   "metadata": {
    "_uuid": "d2f4aa4cca39cb0415068400c5aa44732618f7f6"
   },
   "source": [
    "# **Digit determine with Keras and TensorFlow**"
   ]
  },
  {
   "cell_type": "code",
   "execution_count": 1,
   "metadata": {
    "_cell_guid": "9ba54af3-4761-4572-8b0b-50779b86178e",
    "_uuid": "d54207dd9424bf749a85f2c33480f011f8142c8c"
   },
   "outputs": [
    {
     "name": "stderr",
     "output_type": "stream",
     "text": [
      "Using TensorFlow backend.\n"
     ]
    }
   ],
   "source": [
    "import pandas as pd\n",
    "from skimage import io\n",
    "\n",
    "from keras.utils import np_utils\n",
    "from keras.models import Sequential\n",
    "from keras.layers.core import Dense, Activation\n",
    "from keras.optimizers import SGD"
   ]
  },
  {
   "cell_type": "markdown",
   "metadata": {
    "_uuid": "a22e313df6b20b6d941d7c4e7ecf6d2f031fa504"
   },
   "source": [
    "# ** Data preparation**"
   ]
  },
  {
   "cell_type": "code",
   "execution_count": 2,
   "metadata": {
    "_cell_guid": "eb5a0994-0278-4ab2-a0b7-640acbdca134",
    "_uuid": "aeb88bb5a573f7e6d4d73ae93b40aed1f69d4a39",
    "collapsed": true,
    "scrolled": true
   },
   "outputs": [],
   "source": [
    "data_train = pd.read_csv('train.csv')\n",
    "X_train = data_train.iloc[:,1:]\n",
    "y_train = data_train.iloc[:,:1]"
   ]
  },
  {
   "cell_type": "code",
   "execution_count": 3,
   "metadata": {
    "_cell_guid": "1f5e2eb2-cdf1-4f33-a792-776db172d107",
    "_uuid": "fabe308aa0fa2540127480dd38fcb2177e67316a",
    "collapsed": true
   },
   "outputs": [],
   "source": [
    "X_train /= 255\n",
    "X_train = X_train.as_matrix()\n",
    "y_train = np_utils.to_categorical(y_train, 10)"
   ]
  },
  {
   "cell_type": "markdown",
   "metadata": {
    "_cell_guid": "98a60ffa-0ff0-4edb-886f-a750e3e9b790",
    "_uuid": "7af496c590493afccc21eb9a24efa9c4ad8aa857"
   },
   "source": [
    "# **Building model**"
   ]
  },
  {
   "cell_type": "code",
   "execution_count": 4,
   "metadata": {
    "_cell_guid": "ebb59bbc-c28f-4318-85ad-10baa4196c04",
    "_uuid": "ca2860a558418ebe6410812454ddb14c9d67b9ce"
   },
   "outputs": [
    {
     "name": "stdout",
     "output_type": "stream",
     "text": [
      "_________________________________________________________________\n",
      "Layer (type)                 Output Shape              Param #   \n",
      "=================================================================\n",
      "dense_1 (Dense)              (None, 128)               100480    \n",
      "_________________________________________________________________\n",
      "activation_1 (Activation)    (None, 128)               0         \n",
      "_________________________________________________________________\n",
      "dense_2 (Dense)              (None, 128)               16512     \n",
      "_________________________________________________________________\n",
      "activation_2 (Activation)    (None, 128)               0         \n",
      "_________________________________________________________________\n",
      "dense_3 (Dense)              (None, 128)               16512     \n",
      "_________________________________________________________________\n",
      "activation_3 (Activation)    (None, 128)               0         \n",
      "_________________________________________________________________\n",
      "dense_4 (Dense)              (None, 10)                1290      \n",
      "_________________________________________________________________\n",
      "activation_4 (Activation)    (None, 10)                0         \n",
      "=================================================================\n",
      "Total params: 134,794\n",
      "Trainable params: 134,794\n",
      "Non-trainable params: 0\n",
      "_________________________________________________________________\n"
     ]
    }
   ],
   "source": [
    "model = Sequential()\n",
    "model.add(Dense(128, input_shape=(784,)))\n",
    "model.add(Activation('relu'))\n",
    "model.add(Dense(128))\n",
    "model.add(Activation('relu'))\n",
    "model.add(Dense(128))\n",
    "model.add(Activation('relu'))\n",
    "model.add(Dense(10))\n",
    "model.add(Activation('softmax'))\n",
    "model.summary()\n",
    "\n",
    "model.compile(loss='categorical_crossentropy',\n",
    "optimizer=SGD(),\n",
    "metrics=['accuracy']) "
   ]
  },
  {
   "cell_type": "code",
   "execution_count": 5,
   "metadata": {
    "_cell_guid": "78012fb8-cfaa-4607-84ca-ae59ad9ad5b0",
    "_uuid": "7a95050e32a70787f50e89811f082020d1b5a9bb"
   },
   "outputs": [
    {
     "name": "stdout",
     "output_type": "stream",
     "text": [
      "Train on 33600 samples, validate on 8400 samples\n",
      "Epoch 1/20\n",
      "3s - loss: 2.0008 - acc: 0.4723 - val_loss: 1.4285 - val_acc: 0.7363\n",
      "Epoch 2/20\n",
      "3s - loss: 0.9058 - acc: 0.8051 - val_loss: 0.6009 - val_acc: 0.8535\n",
      "Epoch 3/20\n",
      "3s - loss: 0.5116 - acc: 0.8651 - val_loss: 0.4357 - val_acc: 0.8837\n",
      "Epoch 4/20\n",
      "3s - loss: 0.4097 - acc: 0.8858 - val_loss: 0.3773 - val_acc: 0.8954\n",
      "Epoch 5/20\n",
      "3s - loss: 0.3634 - acc: 0.8985 - val_loss: 0.3406 - val_acc: 0.9070\n",
      "Epoch 6/20\n",
      "3s - loss: 0.3340 - acc: 0.9038 - val_loss: 0.3152 - val_acc: 0.9089\n",
      "Epoch 7/20\n",
      "3s - loss: 0.3135 - acc: 0.9098 - val_loss: 0.3034 - val_acc: 0.9132\n",
      "Epoch 8/20\n",
      "3s - loss: 0.2968 - acc: 0.9137 - val_loss: 0.2855 - val_acc: 0.9173\n",
      "Epoch 9/20\n",
      "3s - loss: 0.2830 - acc: 0.9183 - val_loss: 0.2777 - val_acc: 0.9211\n",
      "Epoch 10/20\n",
      "3s - loss: 0.2704 - acc: 0.9209 - val_loss: 0.2652 - val_acc: 0.9231\n",
      "Epoch 11/20\n",
      "3s - loss: 0.2597 - acc: 0.9235 - val_loss: 0.2542 - val_acc: 0.9267\n",
      "Epoch 12/20\n",
      "3s - loss: 0.2494 - acc: 0.9267 - val_loss: 0.2456 - val_acc: 0.9298\n",
      "Epoch 13/20\n",
      "3s - loss: 0.2401 - acc: 0.9303 - val_loss: 0.2363 - val_acc: 0.9306\n",
      "Epoch 14/20\n",
      "3s - loss: 0.2309 - acc: 0.9327 - val_loss: 0.2307 - val_acc: 0.9332\n",
      "Epoch 15/20\n",
      "3s - loss: 0.2232 - acc: 0.9360 - val_loss: 0.2262 - val_acc: 0.9332\n",
      "Epoch 16/20\n",
      "2s - loss: 0.2149 - acc: 0.9381 - val_loss: 0.2160 - val_acc: 0.9365\n",
      "Epoch 17/20\n",
      "3s - loss: 0.2083 - acc: 0.9402 - val_loss: 0.2114 - val_acc: 0.9398\n",
      "Epoch 18/20\n",
      "3s - loss: 0.2009 - acc: 0.9420 - val_loss: 0.2055 - val_acc: 0.9405\n",
      "Epoch 19/20\n",
      "2s - loss: 0.1945 - acc: 0.9438 - val_loss: 0.2094 - val_acc: 0.9389\n",
      "Epoch 20/20\n",
      "3s - loss: 0.1888 - acc: 0.9457 - val_loss: 0.1960 - val_acc: 0.9436\n"
     ]
    },
    {
     "data": {
      "text/plain": [
       "<keras.callbacks.History at 0x7f06f604ddd8>"
      ]
     },
     "execution_count": 5,
     "metadata": {},
     "output_type": "execute_result"
    }
   ],
   "source": [
    "model.fit(X_train, y_train, batch_size=128, epochs=40, verbose=2, validation_split=0.2)"
   ]
  },
  {
   "cell_type": "markdown",
   "metadata": {
    "_uuid": "c7f4ae25e9a8ac637a99232406fbf755187d0ffe",
    "collapsed": true
   },
   "source": [
    "# **Check prediction**"
   ]
  },
  {
   "cell_type": "code",
   "execution_count": 6,
   "metadata": {
    "_uuid": "48b103f771437f8c37fd0077c07768bd725177fe",
    "collapsed": true
   },
   "outputs": [],
   "source": [
    "def check_prediction(img_path):\n",
    "        img = io.imread(img_path, as_grey=True)\n",
    "        img = img.reshape(28,28)\n",
    "        print(\"Your handwritten digit\")\n",
    "        io.imshow(img)\n",
    "        io.show()\n",
    "        img = img.reshape(1, 784)\n",
    "        prediction = model.predict_classes(img)\n",
    "        print(f\"The model recognized the digit ---> {prediction} <---\")"
   ]
  },
  {
   "cell_type": "code",
   "execution_count": 18,
   "metadata": {
    "_uuid": "9e6f8e8304a3a392acc674350fe59671c813837f",
    "scrolled": true
   },
   "outputs": [
    {
     "name": "stdout",
     "output_type": "stream",
     "text": [
      "Your handwritten digit\n"
     ]
    },
    {
     "data": {
      "image/png": "[encoded data removed]",
      "text/plain": [
       "<matplotlib.figure.Figure at 0x7f06f4d05e80>"
      ]
     },
     "metadata": {},
     "output_type": "display_data"
    },
    {
     "name": "stdout",
     "output_type": "stream",
     "text": [
      "1/1 [==============================] - 0s\n",
      "The model recognized the digit ---> [9] <---\n"
     ]
    }
   ],
   "source": [
    "check_prediction(\"ExamDigits/0.png\")"
   ]
  },
  {
   "cell_type": "code",
   "execution_count": null,
   "metadata": {
    "collapsed": true
   },
   "outputs": [],
   "source": []
  }
 ],
 "metadata": {
  "kernelspec": {
   "display_name": "Python 3",
   "language": "python",
   "name": "python3"
  },
  "language_info": {
   "codemirror_mode": {
    "name": "ipython",
    "version": 3
   },
   "file_extension": ".py",
   "mimetype": "text/x-python",
   "name": "python",
   "nbconvert_exporter": "python",
   "pygments_lexer": "ipython3",
   "version": "3.6.1"
  }
 },
 "nbformat": 4,
 "nbformat_minor": 1
}
