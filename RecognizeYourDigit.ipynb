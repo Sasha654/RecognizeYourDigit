{
 "cells": [
  {
   "cell_type": "markdown",
   "metadata": {
    "_uuid": "d2f4aa4cca39cb0415068400c5aa44732618f7f6"
   },
   "source": [
    "# **Digit determine with Keras and TensorFlow**"
   ]
  },
  {
   "cell_type": "code",
   "execution_count": 1,
   "metadata": {
    "_cell_guid": "9ba54af3-4761-4572-8b0b-50779b86178e",
    "_uuid": "d54207dd9424bf749a85f2c33480f011f8142c8c"
   },
   "outputs": [
    {
     "name": "stderr",
     "output_type": "stream",
     "text": [
      "Using TensorFlow backend.\n"
     ]
    }
   ],
   "source": [
    "import pandas as pd\n",
    "from skimage import io\n",
    "\n",
    "from keras.utils import np_utils\n",
    "from keras.models import Sequential\n",
    "from keras.layers.core import Dense, Activation\n",
    "from keras.callbacks import EarlyStopping"
   ]
  },
  {
   "cell_type": "markdown",
   "metadata": {
    "_uuid": "a22e313df6b20b6d941d7c4e7ecf6d2f031fa504"
   },
   "source": [
    "# ** Data preparation**"
   ]
  },
  {
   "cell_type": "code",
   "execution_count": 6,
   "metadata": {
    "_cell_guid": "eb5a0994-0278-4ab2-a0b7-640acbdca134",
    "_uuid": "aeb88bb5a573f7e6d4d73ae93b40aed1f69d4a39",
    "scrolled": true
   },
   "outputs": [],
   "source": [
    "data_train = pd.read_csv('train.csv')\n",
    "X_train = data_train.iloc[:,1:]\n",
    "y_train = data_train.iloc[:,:1]"
   ]
  },
  {
   "cell_type": "code",
   "execution_count": 7,
   "metadata": {
    "_cell_guid": "1f5e2eb2-cdf1-4f33-a792-776db172d107",
    "_uuid": "fabe308aa0fa2540127480dd38fcb2177e67316a"
   },
   "outputs": [],
   "source": [
    "X_train /= 255\n",
    "X_train = X_train.as_matrix()\n",
    "y_train = np_utils.to_categorical(y_train, 10)"
   ]
  },
  {
   "cell_type": "markdown",
   "metadata": {
    "_cell_guid": "98a60ffa-0ff0-4edb-886f-a750e3e9b790",
    "_uuid": "7af496c590493afccc21eb9a24efa9c4ad8aa857"
   },
   "source": [
    "# **Building model**"
   ]
  },
  {
   "cell_type": "code",
   "execution_count": 8,
   "metadata": {
    "_cell_guid": "ebb59bbc-c28f-4318-85ad-10baa4196c04",
    "_uuid": "ca2860a558418ebe6410812454ddb14c9d67b9ce"
   },
   "outputs": [
    {
     "name": "stdout",
     "output_type": "stream",
     "text": [
      "_________________________________________________________________\n",
      "Layer (type)                 Output Shape              Param #   \n",
      "=================================================================\n",
      "dense_1 (Dense)              (None, 128)               100480    \n",
      "_________________________________________________________________\n",
      "activation_1 (Activation)    (None, 128)               0         \n",
      "_________________________________________________________________\n",
      "dense_2 (Dense)              (None, 128)               16512     \n",
      "_________________________________________________________________\n",
      "activation_2 (Activation)    (None, 128)               0         \n",
      "_________________________________________________________________\n",
      "dense_3 (Dense)              (None, 10)                1290      \n",
      "_________________________________________________________________\n",
      "activation_3 (Activation)    (None, 10)                0         \n",
      "=================================================================\n",
      "Total params: 118,282\n",
      "Trainable params: 118,282\n",
      "Non-trainable params: 0\n",
      "_________________________________________________________________\n"
     ]
    }
   ],
   "source": [
    "model = Sequential()\n",
    "model.add(Dense(128, input_shape=(784,)))\n",
    "model.add(Activation('relu'))\n",
    "model.add(Dense(128))\n",
    "model.add(Activation('relu'))\n",
    "model.add(Dense(10))\n",
    "model.add(Activation('softmax'))\n",
    "model.summary()\n",
    "\n",
    "model.compile(loss='categorical_crossentropy',\n",
    "optimizer='adam',\n",
    "metrics=['accuracy']) "
   ]
  },
  {
   "cell_type": "code",
   "execution_count": 9,
   "metadata": {
    "_cell_guid": "78012fb8-cfaa-4607-84ca-ae59ad9ad5b0",
    "_uuid": "7a95050e32a70787f50e89811f082020d1b5a9bb"
   },
   "outputs": [
    {
     "name": "stdout",
     "output_type": "stream",
     "text": [
      "Train on 33600 samples, validate on 8400 samples\n",
      "Epoch 1/20\n",
      "33600/33600 [==============================] - 2s - loss: 0.4169 - acc: 0.8813 - val_loss: 0.1937 - val_acc: 0.9443\n",
      "Epoch 2/20\n",
      "33600/33600 [==============================] - 2s - loss: 0.1666 - acc: 0.9511 - val_loss: 0.1476 - val_acc: 0.9556\n",
      "Epoch 3/20\n",
      "33600/33600 [==============================] - 2s - loss: 0.1160 - acc: 0.9651 - val_loss: 0.1229 - val_acc: 0.9618\n",
      "Epoch 4/20\n",
      "33600/33600 [==============================] - 2s - loss: 0.0885 - acc: 0.9732 - val_loss: 0.1192 - val_acc: 0.9635\n",
      "Epoch 5/20\n",
      "33600/33600 [==============================] - 2s - loss: 0.0677 - acc: 0.9792 - val_loss: 0.1129 - val_acc: 0.9658\n",
      "Epoch 6/20\n",
      "33600/33600 [==============================] - 2s - loss: 0.0536 - acc: 0.9841 - val_loss: 0.1029 - val_acc: 0.9696\n",
      "Epoch 7/20\n",
      "33600/33600 [==============================] - 2s - loss: 0.0421 - acc: 0.9874 - val_loss: 0.0942 - val_acc: 0.9719\n",
      "Epoch 8/20\n",
      "33600/33600 [==============================] - 2s - loss: 0.0345 - acc: 0.9899 - val_loss: 0.1014 - val_acc: 0.9698\n",
      "Epoch 9/20\n",
      "33600/33600 [==============================] - 2s - loss: 0.0265 - acc: 0.9930 - val_loss: 0.0960 - val_acc: 0.9721\n",
      "Epoch 10/20\n",
      "33600/33600 [==============================] - 2s - loss: 0.0217 - acc: 0.9939 - val_loss: 0.1016 - val_acc: 0.9721\n",
      "Epoch 11/20\n",
      "33600/33600 [==============================] - 2s - loss: 0.0163 - acc: 0.9954 - val_loss: 0.1167 - val_acc: 0.9687\n",
      "Epoch 12/20\n",
      "33600/33600 [==============================] - 2s - loss: 0.0167 - acc: 0.9958 - val_loss: 0.1262 - val_acc: 0.9681\n"
     ]
    },
    {
     "data": {
      "text/plain": [
       "<keras.callbacks.History at 0xed1f780>"
      ]
     },
     "execution_count": 9,
     "metadata": {},
     "output_type": "execute_result"
    }
   ],
   "source": [
    "early_stopping=EarlyStopping(monitor='loss')\n",
    "model.fit(X_train, y_train, batch_size=128, epochs=20, verbose=1, validation_split=0.2, callbacks=[early_stopping])"
   ]
  },
  {
   "cell_type": "markdown",
   "metadata": {
    "_uuid": "c7f4ae25e9a8ac637a99232406fbf755187d0ffe",
    "collapsed": true
   },
   "source": [
    "# **Check prediction**"
   ]
  },
  {
   "cell_type": "code",
   "execution_count": 10,
   "metadata": {
    "_uuid": "48b103f771437f8c37fd0077c07768bd725177fe",
    "collapsed": true
   },
   "outputs": [],
   "source": [
    "def check_prediction(img_path):\n",
    "        img = io.imread(img_path, as_grey=True)\n",
    "        img = img.reshape(28,28)\n",
    "        print(\"Your handwritten digit\")\n",
    "        io.imshow(img)\n",
    "        io.show()\n",
    "        img = img.reshape(1, 784)\n",
    "        prediction = model.predict_classes(img)\n",
    "        print(f\"The model recognized the digit ---> {prediction} <---\")"
   ]
  },
  {
   "cell_type": "code",
   "execution_count": 11,
   "metadata": {
    "_uuid": "9e6f8e8304a3a392acc674350fe59671c813837f",
    "scrolled": true
   },
   "outputs": [
    {
     "name": "stdout",
     "output_type": "stream",
     "text": [
      "Your handwritten digit\n"
     ]
    },
    {
     "data": {
      "image/png": "[encoded data removed]",
      "text/plain": [
       "<matplotlib.figure.Figure at 0x116a4c18>"
      ]
     },
     "metadata": {},
     "output_type": "display_data"
    },
    {
     "name": "stdout",
     "output_type": "stream",
     "text": [
      "1/1 [==============================] - 0s\n",
      "The model recognized the digit ---> [0] <---\n"
     ]
    }
   ],
   "source": [
    "check_prediction(\"ExamDigits/0.png\")"
   ]
  },
  {
   "cell_type": "code",
   "execution_count": null,
   "metadata": {
    "collapsed": true
   },
   "outputs": [],
   "source": []
  }
 ],
 "metadata": {
  "kernelspec": {
   "display_name": "Python 3",
   "language": "python",
   "name": "python3"
  },
  "language_info": {
   "codemirror_mode": {
    "name": "ipython",
    "version": 3
   },
   "file_extension": ".py",
   "mimetype": "text/x-python",
   "name": "python",
   "nbconvert_exporter": "python",
   "pygments_lexer": "ipython3",
   "version": "3.6.2"
  }
 },
 "nbformat": 4,
 "nbformat_minor": 1
}
